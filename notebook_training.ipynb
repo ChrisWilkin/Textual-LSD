{
 "cells": [
  {
   "cell_type": "code",
   "execution_count": null,
   "metadata": {},
   "outputs": [],
   "source": [
    "from google.colab import drive\n",
    "drive.mount('/content/drive')\n",
    "\n",
    "%cd /content/drive/My Drive/Colab Notebooks/NLP/Textual-LSD"
   ]
  },
  {
   "cell_type": "code",
   "execution_count": null,
   "metadata": {},
   "outputs": [],
   "source": [
    "import os\n",
    "os.chdir(\"/content/drive/MyDrive/Colab Notebooks/NLP/Textual-LSD\")\n",
    "# os.getcwd()"
   ]
  },
  {
   "cell_type": "code",
   "execution_count": null,
   "metadata": {},
   "outputs": [],
   "source": [
    "!git config --global user.email \"b.billuroglu@gmail.com\"\n",
    "!git config --global user.name \"BerokenScientist\""
   ]
  },
  {
   "cell_type": "code",
   "execution_count": null,
   "metadata": {},
   "outputs": [],
   "source": [
    "from tkinter.tix import MAX\n",
    "import torch\n",
    "import utils\n",
    "import nltk\n",
    "\n",
    "nltk.download('punkt')"
   ]
  },
  {
   "cell_type": "code",
   "execution_count": null,
   "metadata": {},
   "outputs": [],
   "source": [
    "##### Key Variables #####\n",
    "# Hashed values are those used in the reference paper\n",
    "EPOCHS = 10 #Until convergence\n",
    "BATCH_SIZE = 64 # 8\n",
    "LR = 3e-3 #2e-5\n",
    "USE_DOM = True\n",
    "FILENAME = '8500_songs_training.xlsx'\n",
    "ATTENTION_HEADS = 8 # 8\n",
    "EMBEDDING_SIZE = 32 # 512\n",
    "NUM_ENCODER_LAYERS = 1 # 3\n",
    "FORWARD_XP = 16\n",
    "DROPOUT = 0.25 # 0.1\n",
    "MAXLENGTH = 128 #1024\n",
    "MT_HEADS = 8 # 8\n",
    "DEVICE = 'cuda' if torch.cuda.is_available() else 'cpu'\n",
    "print('Using ', DEVICE)\n",
    "\n",
    "PRINT_STEP = 50\n",
    "SAVE_STEP = 10\n",
    "\n",
    "w2v = torch.load('w2v_weights.pkl')"
   ]
  },
  {
   "cell_type": "code",
   "execution_count": null,
   "metadata": {},
   "outputs": [],
   "source": [
    "trainer = utils.Textual_LSD_Training(verbose=True)\n",
    "trainer.load_dataset(FILENAME, MAXLENGTH, BATCH_SIZE)\n",
    "trainer.generate_vocab()\n",
    "trainer.generate_models(EMBEDDING_SIZE, ATTENTION_HEADS, DROPOUT, USE_DOM, \n",
    "                        LR, MT_HEADS, NUM_ENCODER_LAYERS, FORWARD_XP, DEVICE, \n",
    "                        w2v=w2v)\n",
    "trainer.train(EPOCHS, PRINT_STEP, SAVE_STEP, 'berk_100.pt')\n",
    "trainer.plot_data(averaging_window=10)"
   ]
  }
 ],
 "metadata": {
  "kernelspec": {
   "display_name": "Python 3",
   "language": "python",
   "name": "python3"
  },
  "language_info": {
   "codemirror_mode": {
    "name": "ipython",
    "version": 3
   },
   "file_extension": ".py",
   "mimetype": "text/x-python",
   "name": "python",
   "nbconvert_exporter": "python",
   "pygments_lexer": "ipython3",
   "version": "3.8.5"
  }
 },
 "nbformat": 4,
 "nbformat_minor": 4
}
