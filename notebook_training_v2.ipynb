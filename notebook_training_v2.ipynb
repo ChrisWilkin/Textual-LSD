{
 "cells": [
  {
   "cell_type": "code",
   "execution_count": null,
   "metadata": {},
   "outputs": [],
   "source": [
    "from google.colab import drive\n",
    "drive.mount('/content/drive')\n",
    "\n",
    "%cd /content/drive/My Drive/Colab Notebooks/NLP/Textual-LSD"
   ]
  },
  {
   "cell_type": "code",
   "execution_count": null,
   "metadata": {},
   "outputs": [],
   "source": [
    "import os\n",
    "os.chdir(\"/content/drive/MyDrive/Colab Notebooks/NLP/Textual-LSD\")\n",
    "# os.getcwd()"
   ]
  },
  {
   "cell_type": "code",
   "execution_count": null,
   "metadata": {},
   "outputs": [],
   "source": [
    "!git config --global user.email \"b.billuroglu@gmail.com\"\n",
    "!git config --global user.name \"BerokenScientist\""
   ]
  },
  {
   "cell_type": "code",
   "execution_count": 1,
   "metadata": {},
   "outputs": [
    {
     "name": "stderr",
     "output_type": "stream",
     "text": [
      "[nltk_data] Downloading package punkt to\n",
      "[nltk_data]     C:\\Users\\berke\\AppData\\Roaming\\nltk_data...\n",
      "[nltk_data]   Package punkt is already up-to-date!\n"
     ]
    },
    {
     "data": {
      "text/plain": [
       "True"
      ]
     },
     "execution_count": 1,
     "metadata": {},
     "output_type": "execute_result"
    }
   ],
   "source": [
    "from tkinter.tix import MAX\n",
    "import torch\n",
    "import utils\n",
    "import nltk\n",
    "\n",
    "nltk.download('punkt')"
   ]
  },
  {
   "cell_type": "code",
   "execution_count": 3,
   "metadata": {},
   "outputs": [
    {
     "name": "stdout",
     "output_type": "stream",
     "text": [
      "Using  cpu\n"
     ]
    }
   ],
   "source": [
    "##### Key Variables #####\n",
    "# Hashed values are those used in the reference paper\n",
    "EPOCHS = 28\n",
    "BATCH_SIZE = 128\n",
    "LR = 3e-4 #2e-5\n",
    "USE_VAL = False\n",
    "USE_AROU = False\n",
    "USE_DOM = False\n",
    "USE_QUAD = True\n",
    "FILENAME = 'Datasets/train_balanced.xlsx'\n",
    "VAL_FILENAME = 'Datasets/validation_bal_3Apr.xlsx'\n",
    "ATTENTION_HEADS = 8\n",
    "EMBEDDING_SIZE = 32\n",
    "NUM_ENCODER_LAYERS = 1\n",
    "FORWARD_XP = 32\n",
    "DROPOUT = 0.25\n",
    "MAXLENGTH = 128\n",
    "MT_HEADS = 8\n",
    "DEVICE = 'cuda' if torch.cuda.is_available() else 'cpu'\n",
    "print('Using ', DEVICE)\n",
    "\n",
    "PRINT_STEP = 25\n",
    "SAVE_STEP = 10\n",
    "w2v = torch.load('w2v_window10_min40_iter10.pkl')\n",
    "w2v.requires_grad = True"
   ]
  },
  {
   "cell_type": "code",
   "execution_count": 4,
   "metadata": {
    "scrolled": true
   },
   "outputs": [
    {
     "name": "stdout",
     "output_type": "stream",
     "text": [
      "Starting Load Dataset...\n",
      "<dataloader.LSD_DataLoader object at 0x000002AB94824FD0>\n",
      "Succesfully Loaded Dataframe\n",
      "Starting Load Dataset...\n",
      "<dataloader.LSD_DataLoader object at 0x000002AB94824BB0>\n",
      "Succesfully Loaded Dataframe\n",
      "Starting Load Vocab...\n",
      "training vocab loaded\n",
      "validation vocab loaded\n",
      "Successfully Loaded Pickles/NewVocab.pkl into vocabulary\n"
     ]
    }
   ],
   "source": [
    "trainer = utils.Textual_LSD_TVT(verbose=True)\n",
    "trainer.load_dataset(FILENAME, MAXLENGTH, BATCH_SIZE)\n",
    "trainer.load_dataset(VAL_FILENAME, MAXLENGTH, BATCH_SIZE, validation=True)\n",
    "\n",
    "trainer.load_vocab('Pickles/NewVocab.pkl')"
   ]
  },
  {
   "cell_type": "code",
   "execution_count": 7,
   "metadata": {
    "pycharm": {
     "name": "#%%\n"
    },
    "scrolled": true
   },
   "outputs": [
    {
     "name": "stdout",
     "output_type": "stream",
     "text": [
      "emb32att8mt8fx32len128drp025dom0\n",
      "Starting Generate Models...\n",
      "Models Generated Successfully\n",
      "Number of batches per epoch: 104\n",
      "Printing every 25 batches, saving every 10 batches\n",
      "Epoch 1 / 28\n"
     ]
    },
    {
     "ename": "IndexError",
     "evalue": "index 1 is out of bounds for dimension 0 with size 1",
     "output_type": "error",
     "traceback": [
      "\u001b[1;31m---------------------------------------------------------------------------\u001b[0m",
      "\u001b[1;31mIndexError\u001b[0m                                Traceback (most recent call last)",
      "\u001b[1;32m<ipython-input-7-74d7c1d1b244>\u001b[0m in \u001b[0;36m<module>\u001b[1;34m\u001b[0m\n\u001b[0;32m      1\u001b[0m trainer.generate_models(EMBEDDING_SIZE, ATTENTION_HEADS, DROPOUT, USE_VAL, USE_AROU, USE_DOM, USE_QUAD,\n\u001b[0;32m      2\u001b[0m                         LR, MT_HEADS, NUM_ENCODER_LAYERS, FORWARD_XP, DEVICE, lr_pat=15, w2v=w2v, version=2)\n\u001b[1;32m----> 3\u001b[1;33m \u001b[0mtrainer\u001b[0m\u001b[1;33m.\u001b[0m\u001b[0mtrain_v2\u001b[0m\u001b[1;33m(\u001b[0m\u001b[0mEPOCHS\u001b[0m\u001b[1;33m,\u001b[0m \u001b[0mPRINT_STEP\u001b[0m\u001b[1;33m,\u001b[0m \u001b[0mSAVE_STEP\u001b[0m\u001b[1;33m,\u001b[0m \u001b[0menc_version\u001b[0m\u001b[1;33m=\u001b[0m\u001b[1;36m1\u001b[0m\u001b[1;33m,\u001b[0m\u001b[0msave_epochs\u001b[0m\u001b[1;33m=\u001b[0m\u001b[1;36m2\u001b[0m\u001b[1;33m,\u001b[0m\u001b[0mvalidation_freq\u001b[0m\u001b[1;33m=\u001b[0m\u001b[1;36m1\u001b[0m\u001b[1;33m,\u001b[0m \u001b[0mval_prf\u001b[0m\u001b[1;33m=\u001b[0m\u001b[1;32mTrue\u001b[0m\u001b[1;33m)\u001b[0m\u001b[1;33m\u001b[0m\u001b[1;33m\u001b[0m\u001b[0m\n\u001b[0m\u001b[0;32m      4\u001b[0m \u001b[0mtrainer\u001b[0m\u001b[1;33m.\u001b[0m\u001b[0mplot_data\u001b[0m\u001b[1;33m(\u001b[0m\u001b[0maveraging_window\u001b[0m\u001b[1;33m=\u001b[0m\u001b[1;36m1\u001b[0m\u001b[1;33m)\u001b[0m\u001b[1;33m\u001b[0m\u001b[1;33m\u001b[0m\u001b[0m\n\u001b[0;32m      5\u001b[0m \u001b[1;33m\u001b[0m\u001b[0m\n",
      "\u001b[1;32m~\\Documents\\UCL\\Term2\\NLP\\Textual-LSD\\utils.py\u001b[0m in \u001b[0;36mtrain_v2\u001b[1;34m(self, epochs, print_step, save_step, save, save_name, save_epochs, show_preds, show_acc, show_loss, show_time, enc_version, validation_freq, val_acc, val_cm, val_prf, save_folder, start_epoch)\u001b[0m\n\u001b[0;32m    558\u001b[0m \u001b[1;33m\u001b[0m\u001b[0m\n\u001b[0;32m    559\u001b[0m                 \u001b[1;32mif\u001b[0m \u001b[0mself\u001b[0m\u001b[1;33m.\u001b[0m\u001b[0muse_valence\u001b[0m \u001b[1;33m==\u001b[0m \u001b[1;32mFalse\u001b[0m \u001b[1;33m&\u001b[0m \u001b[0mself\u001b[0m\u001b[1;33m.\u001b[0m\u001b[0muse_arousal\u001b[0m \u001b[1;33m==\u001b[0m \u001b[1;32mFalse\u001b[0m \u001b[1;33m&\u001b[0m \u001b[0mself\u001b[0m\u001b[1;33m.\u001b[0m\u001b[0muse_dominance\u001b[0m \u001b[1;33m==\u001b[0m \u001b[1;32mFalse\u001b[0m\u001b[1;33m:\u001b[0m\u001b[1;33m\u001b[0m\u001b[1;33m\u001b[0m\u001b[0m\n\u001b[1;32m--> 560\u001b[1;33m                     \u001b[0mvalence_loss\u001b[0m \u001b[1;33m=\u001b[0m \u001b[0mtorch\u001b[0m\u001b[1;33m.\u001b[0m\u001b[0mtensor\u001b[0m\u001b[1;33m(\u001b[0m\u001b[1;33m[\u001b[0m\u001b[1;36m0\u001b[0m\u001b[1;33m]\u001b[0m\u001b[1;33m)\u001b[0m\u001b[1;33m.\u001b[0m\u001b[0mto\u001b[0m\u001b[1;33m(\u001b[0m\u001b[0mself\u001b[0m\u001b[1;33m.\u001b[0m\u001b[0mdevice\u001b[0m\u001b[1;33m)\u001b[0m\u001b[1;33m\u001b[0m\u001b[1;33m\u001b[0m\u001b[0m\n\u001b[0m\u001b[0;32m    561\u001b[0m                     \u001b[0marousal_loss\u001b[0m \u001b[1;33m=\u001b[0m \u001b[0mtorch\u001b[0m\u001b[1;33m.\u001b[0m\u001b[0mtensor\u001b[0m\u001b[1;33m(\u001b[0m\u001b[1;33m[\u001b[0m\u001b[1;36m0\u001b[0m\u001b[1;33m]\u001b[0m\u001b[1;33m)\u001b[0m\u001b[1;33m.\u001b[0m\u001b[0mto\u001b[0m\u001b[1;33m(\u001b[0m\u001b[0mself\u001b[0m\u001b[1;33m.\u001b[0m\u001b[0mdevice\u001b[0m\u001b[1;33m)\u001b[0m\u001b[1;33m\u001b[0m\u001b[1;33m\u001b[0m\u001b[0m\n\u001b[0;32m    562\u001b[0m                     \u001b[0mdominance_loss\u001b[0m \u001b[1;33m=\u001b[0m \u001b[0mtorch\u001b[0m\u001b[1;33m.\u001b[0m\u001b[0mtensor\u001b[0m\u001b[1;33m(\u001b[0m\u001b[1;33m[\u001b[0m\u001b[1;36m0\u001b[0m\u001b[1;33m]\u001b[0m\u001b[1;33m)\u001b[0m\u001b[1;33m.\u001b[0m\u001b[0mto\u001b[0m\u001b[1;33m(\u001b[0m\u001b[0mself\u001b[0m\u001b[1;33m.\u001b[0m\u001b[0mdevice\u001b[0m\u001b[1;33m)\u001b[0m\u001b[1;33m\u001b[0m\u001b[1;33m\u001b[0m\u001b[0m\n",
      "\u001b[1;31mIndexError\u001b[0m: index 1 is out of bounds for dimension 0 with size 1"
     ]
    }
   ],
   "source": [
    "trainer.generate_models(EMBEDDING_SIZE, ATTENTION_HEADS, DROPOUT, USE_VAL, USE_AROU, USE_DOM, USE_QUAD,\n",
    "                        LR, MT_HEADS, NUM_ENCODER_LAYERS, FORWARD_XP, DEVICE, lr_pat=15, w2v=w2v, version=2)\n",
    "trainer.train_v2(EPOCHS, PRINT_STEP, SAVE_STEP, enc_version=1,save_epochs=2,validation_freq=1, val_prf=True)\n",
    "trainer.plot_data(averaging_window=1)\n",
    "\n",
    "trainer.plot_data(averaging_window=1,validation=True)"
   ]
  }
 ],
 "metadata": {
  "kernelspec": {
   "display_name": "Python 3",
   "language": "python",
   "name": "python3"
  },
  "language_info": {
   "codemirror_mode": {
    "name": "ipython",
    "version": 3
   },
   "file_extension": ".py",
   "mimetype": "text/x-python",
   "name": "python",
   "nbconvert_exporter": "python",
   "pygments_lexer": "ipython3",
   "version": "3.8.5"
  }
 },
 "nbformat": 4,
 "nbformat_minor": 4
}
